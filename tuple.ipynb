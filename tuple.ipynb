{
 "cells": [
  {
   "cell_type": "code",
   "execution_count": null,
   "metadata": {},
   "outputs": [],
   "source": [
    "# Tuple: ordered, immutable, allows duplicate elements.\n",
    "mytuple = \"Max\", 28,\n",
    "mytuple = (\"Max\", 28, \"Boston\")\n",
    "mytuple = tuple([\"Max\", 28, \"Boston\"])\n",
    "\n",
    "item = mytuple[1]\n",
    "print(mytuple, item)"
   ]
  },
  {
   "cell_type": "code",
   "execution_count": null,
   "metadata": {},
   "outputs": [],
   "source": [
    "for i in mytuple:\n",
    "  print(i)\n",
    "\n",
    "if \"Tim\" in mytuple:\n",
    "  print(\"Yes\")\n",
    "else:\n",
    "  print(\"No\")"
   ]
  },
  {
   "cell_type": "code",
   "execution_count": null,
   "metadata": {},
   "outputs": [],
   "source": [
    "mytuple = ('a', 'b', 'c', 'a', 'd', 'e', 'f')\n",
    "length = len(mytuple) # length of the tuple.\n",
    "count = mytuple.count('a')\n",
    "index = mytuple.index('b')"
   ]
  },
  {
   "cell_type": "code",
   "execution_count": null,
   "metadata": {},
   "outputs": [],
   "source": [
    "# conversion.\n",
    "mylist = list(mytuple)\n",
    "mytuple = tuple(mylist)\n",
    "mytuple"
   ]
  },
  {
   "cell_type": "code",
   "execution_count": null,
   "metadata": {},
   "outputs": [],
   "source": [
    "a = (1, 2, 3, 4, 5, 6, 7, 8, 9, 10)\n",
    "\n",
    "b = a[2:5]\n",
    "b = a[:-2]\n",
    "reversed = a[::-1]\n",
    "print(b)\n",
    "print(reversed)"
   ]
  },
  {
   "cell_type": "code",
   "execution_count": null,
   "metadata": {},
   "outputs": [],
   "source": [
    "mytuple = \"Max\", 28, \"Boston\"\n",
    "name, age, city = mytuple\n",
    "print(name, age, city)"
   ]
  },
  {
   "cell_type": "code",
   "execution_count": null,
   "metadata": {},
   "outputs": [],
   "source": [
    "mytuple = (0, 1, 2, 3, 4)\n",
    "\n",
    "a, *b, c = mytuple\n",
    "print(a, b, c)"
   ]
  },
  {
   "cell_type": "code",
   "execution_count": null,
   "metadata": {},
   "outputs": [],
   "source": [
    "import sys\n",
    "\n",
    "mylist = [0, 1, 2, \"hello\", True]\n",
    "mytuple = (0, 1, 2, \"hello\", True)\n",
    "print(sys.getsizeof(mylist), \"bytes\")\n",
    "print(sys.getsizeof(mytuple), \"bytes\")"
   ]
  },
  {
   "cell_type": "code",
   "execution_count": null,
   "metadata": {},
   "outputs": [],
   "source": [
    "import timeit\n",
    "\n",
    "print(timeit.timeit(stmt=\"[0, 1, 2, 3]\", number=1000000))\n",
    "print(timeit.timeit(stmt=\"(0, 1, 2, 3)\", number=1000000))"
   ]
  }
 ],
 "metadata": {
  "kernelspec": {
   "display_name": "base",
   "language": "python",
   "name": "python3"
  },
  "language_info": {
   "codemirror_mode": {
    "name": "ipython",
    "version": 3
   },
   "file_extension": ".py",
   "mimetype": "text/x-python",
   "name": "python",
   "nbconvert_exporter": "python",
   "pygments_lexer": "ipython3",
   "version": "3.12.7"
  }
 },
 "nbformat": 4,
 "nbformat_minor": 2
}
