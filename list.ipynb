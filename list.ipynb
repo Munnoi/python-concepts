{
 "cells": [
  {
   "cell_type": "code",
   "execution_count": null,
   "metadata": {},
   "outputs": [],
   "source": [
    "# Lists: ordered, mutable, allows duplicate elements.\n",
    "my_list = [\"banana\", \"cherry\", \"apple\"]\n",
    "my_list2 = list() # empty list.\n",
    "my_list3 = [5, True, 'c', \"word\"] # mixed items.\n",
    "\n",
    "item = my_list[-1] # indexing in list.\n",
    "\n",
    "for i in my_list: # iterating over a list.\n",
    "  pass\n",
    "\n",
    "if \"cherry\" in my_list: # 'in' used to check an element inside a list.\n",
    "  # print(\"Y\")\n",
    "  pass\n",
    "else:\n",
    "  pass\n",
    "  # print(\"N\")\n",
    "\n",
    "my_list.append(\"lemon\") # adds element to the end of the list.\n",
    "my_list.insert(1, \"blueberry\") # adds element in a specified position.\n",
    "my_list.pop() # returns and removes the last item in the list.\n",
    "my_list.pop(0) # removes the element at specified index.\n",
    "my_list.remove(\"cherry\") # removes a particular element.\n",
    "my_list.clear() # removes all the elements.\n",
    "my_list.reverse() # reverses the list.\n",
    "\n",
    "mylist2 = [4, 3, 2, -1, 0]\n",
    "\n",
    "mylist2.sort() # sorts the list (changes the original list).\n",
    "new_list = sorted(mylist2) # doesn't change the original list."
   ]
  },
  {
   "cell_type": "code",
   "execution_count": 21,
   "metadata": {},
   "outputs": [
    {
     "name": "stdout",
     "output_type": "stream",
     "text": [
      "[1, 2, 3, 4, 5, 4, 8, 2, 3]\n"
     ]
    }
   ],
   "source": [
    "mylist = [0] * 5 # initializing five '0's in the list.\n",
    "mylist = [1, 2, 3, 4, 5]\n",
    "mylist2 = [4, 8, 2, 3]\n",
    "\n",
    "newlist = mylist + mylist2 # concatenating lists.\n",
    "print(newlist)"
   ]
  },
  {
   "cell_type": "code",
   "execution_count": 25,
   "metadata": {},
   "outputs": [
    {
     "name": "stdout",
     "output_type": "stream",
     "text": [
      "[5, 4, 3, 2, 1]\n"
     ]
    }
   ],
   "source": [
    "mylist = [1, 2, 3, 4, 5]\n",
    "a = mylist[1:5] # list slicing.\n",
    "a = mylist[::2] # using the step.\n",
    "a = mylist[::-1] # reversing the list.\n",
    "print(a)"
   ]
  },
  {
   "cell_type": "code",
   "execution_count": 28,
   "metadata": {},
   "outputs": [
    {
     "name": "stdout",
     "output_type": "stream",
     "text": [
      "['banana', 'cherry', 'apple', 'lemon'] ['banana', 'cherry', 'apple']\n"
     ]
    }
   ],
   "source": [
    "fruits = [\"banana\", \"cherry\", \"apple\"]\n",
    "\n",
    "# copy methods\n",
    "list_cpy = fruits # copies the list, but the changes occur in both.\n",
    "list_cpy = fruits.copy() # copies the entire list.\n",
    "list_cpy = list(fruits) # \"\"\n",
    "list_cpy = fruits[:] # \"\"\n",
    "\n",
    "# list_cpy.append(\"lemon\")"
   ]
  },
  {
   "cell_type": "code",
   "execution_count": 31,
   "metadata": {},
   "outputs": [
    {
     "name": "stdout",
     "output_type": "stream",
     "text": [
      "[1, 2, 3, 4, 5, 6]\n",
      "[1, 4, 9, 16, 25, 36] [2, 4, 6, 8, 10, 12]\n"
     ]
    }
   ],
   "source": [
    "# list comprehension.\n",
    "mylist = [1, 2, 3, 4, 5, 6]\n",
    "a = [x*x for x in mylist]\n",
    "b = [x+x for x in mylist]\n",
    "print(mylist)\n",
    "print(a, b)"
   ]
  }
 ],
 "metadata": {
  "kernelspec": {
   "display_name": "base",
   "language": "python",
   "name": "python3"
  },
  "language_info": {
   "codemirror_mode": {
    "name": "ipython",
    "version": 3
   },
   "file_extension": ".py",
   "mimetype": "text/x-python",
   "name": "python",
   "nbconvert_exporter": "python",
   "pygments_lexer": "ipython3",
   "version": "3.12.7"
  }
 },
 "nbformat": 4,
 "nbformat_minor": 2
}
